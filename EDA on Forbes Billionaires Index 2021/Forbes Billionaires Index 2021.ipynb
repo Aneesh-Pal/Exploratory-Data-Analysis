{
 "cells": [
  {
   "cell_type": "markdown",
   "id": "9ed3373f",
   "metadata": {},
   "source": [
    "# Exploratory Data Analysis on Forbes Billionaires Index 2021"
   ]
  },
  {
   "cell_type": "markdown",
   "id": "b4f21417",
   "metadata": {},
   "source": [
    "### Importing all the necessary libraries"
   ]
  },
  {
   "cell_type": "code",
   "execution_count": 2,
   "id": "7934a8ed",
   "metadata": {},
   "outputs": [],
   "source": [
    "import numpy as np\n",
    "import pandas as pd\n",
    "import matplotlib.pyplot as plt\n",
    "import seaborn as sns\n",
    "%matplotlib inline\n",
    "sns.set(color_codes=True)\n",
    "import re"
   ]
  },
  {
   "cell_type": "markdown",
   "id": "71b715e5",
   "metadata": {},
   "source": [
    "### Extracting the CSV file"
   ]
  },
  {
   "cell_type": "code",
   "execution_count": 5,
   "id": "010938ab",
   "metadata": {},
   "outputs": [],
   "source": [
    "df=pd.read_csv(\"C:/Users/anees/Documents/Datasets/Billionaire.csv\")"
   ]
  },
  {
   "cell_type": "code",
   "execution_count": 6,
   "id": "c18b55bc",
   "metadata": {},
   "outputs": [
    {
     "data": {
      "text/html": [
       "<div>\n",
       "<style scoped>\n",
       "    .dataframe tbody tr th:only-of-type {\n",
       "        vertical-align: middle;\n",
       "    }\n",
       "\n",
       "    .dataframe tbody tr th {\n",
       "        vertical-align: top;\n",
       "    }\n",
       "\n",
       "    .dataframe thead th {\n",
       "        text-align: right;\n",
       "    }\n",
       "</style>\n",
       "<table border=\"1\" class=\"dataframe\">\n",
       "  <thead>\n",
       "    <tr style=\"text-align: right;\">\n",
       "      <th></th>\n",
       "      <th>Name</th>\n",
       "      <th>NetWorth</th>\n",
       "      <th>Country</th>\n",
       "      <th>Source</th>\n",
       "      <th>Rank</th>\n",
       "      <th>Age</th>\n",
       "      <th>Industry</th>\n",
       "    </tr>\n",
       "  </thead>\n",
       "  <tbody>\n",
       "    <tr>\n",
       "      <th>0</th>\n",
       "      <td>Jeff Bezos</td>\n",
       "      <td>$177 B</td>\n",
       "      <td>United States</td>\n",
       "      <td>Amazon</td>\n",
       "      <td>1</td>\n",
       "      <td>57.0</td>\n",
       "      <td>Technology</td>\n",
       "    </tr>\n",
       "    <tr>\n",
       "      <th>1</th>\n",
       "      <td>Elon Musk</td>\n",
       "      <td>$151 B</td>\n",
       "      <td>United States</td>\n",
       "      <td>Tesla, SpaceX</td>\n",
       "      <td>2</td>\n",
       "      <td>49.0</td>\n",
       "      <td>Automotive</td>\n",
       "    </tr>\n",
       "    <tr>\n",
       "      <th>2</th>\n",
       "      <td>Bernard Arnault &amp; family</td>\n",
       "      <td>$150 B</td>\n",
       "      <td>France</td>\n",
       "      <td>LVMH</td>\n",
       "      <td>3</td>\n",
       "      <td>72.0</td>\n",
       "      <td>Fashion &amp; Retail</td>\n",
       "    </tr>\n",
       "    <tr>\n",
       "      <th>3</th>\n",
       "      <td>Bill Gates</td>\n",
       "      <td>$124 B</td>\n",
       "      <td>United States</td>\n",
       "      <td>Microsoft</td>\n",
       "      <td>4</td>\n",
       "      <td>65.0</td>\n",
       "      <td>Technology</td>\n",
       "    </tr>\n",
       "    <tr>\n",
       "      <th>4</th>\n",
       "      <td>Mark Zuckerberg</td>\n",
       "      <td>$97 B</td>\n",
       "      <td>United States</td>\n",
       "      <td>Facebook</td>\n",
       "      <td>5</td>\n",
       "      <td>36.0</td>\n",
       "      <td>Technology</td>\n",
       "    </tr>\n",
       "    <tr>\n",
       "      <th>...</th>\n",
       "      <td>...</td>\n",
       "      <td>...</td>\n",
       "      <td>...</td>\n",
       "      <td>...</td>\n",
       "      <td>...</td>\n",
       "      <td>...</td>\n",
       "      <td>...</td>\n",
       "    </tr>\n",
       "    <tr>\n",
       "      <th>2750</th>\n",
       "      <td>Daniel Yong Zhang</td>\n",
       "      <td>$1 B</td>\n",
       "      <td>China</td>\n",
       "      <td>e-commerce</td>\n",
       "      <td>2674</td>\n",
       "      <td>49.0</td>\n",
       "      <td>Technology</td>\n",
       "    </tr>\n",
       "    <tr>\n",
       "      <th>2751</th>\n",
       "      <td>Zhang Yuqiang</td>\n",
       "      <td>$1 B</td>\n",
       "      <td>China</td>\n",
       "      <td>Fiberglass</td>\n",
       "      <td>2674</td>\n",
       "      <td>65.0</td>\n",
       "      <td>Manufacturing</td>\n",
       "    </tr>\n",
       "    <tr>\n",
       "      <th>2752</th>\n",
       "      <td>Zhao Meiguang</td>\n",
       "      <td>$1 B</td>\n",
       "      <td>China</td>\n",
       "      <td>gold mining</td>\n",
       "      <td>2674</td>\n",
       "      <td>58.0</td>\n",
       "      <td>Metals &amp; Mining</td>\n",
       "    </tr>\n",
       "    <tr>\n",
       "      <th>2753</th>\n",
       "      <td>Zhong Naixiong</td>\n",
       "      <td>$1 B</td>\n",
       "      <td>China</td>\n",
       "      <td>conglomerate</td>\n",
       "      <td>2674</td>\n",
       "      <td>58.0</td>\n",
       "      <td>Diversified</td>\n",
       "    </tr>\n",
       "    <tr>\n",
       "      <th>2754</th>\n",
       "      <td>Zhou Wei family</td>\n",
       "      <td>$1 B</td>\n",
       "      <td>China</td>\n",
       "      <td>Software</td>\n",
       "      <td>2674</td>\n",
       "      <td>54.0</td>\n",
       "      <td>Technology</td>\n",
       "    </tr>\n",
       "  </tbody>\n",
       "</table>\n",
       "<p>2755 rows × 7 columns</p>\n",
       "</div>"
      ],
      "text/plain": [
       "                          Name NetWorth        Country         Source  Rank  \\\n",
       "0                   Jeff Bezos   $177 B  United States         Amazon     1   \n",
       "1                    Elon Musk   $151 B  United States  Tesla, SpaceX     2   \n",
       "2     Bernard Arnault & family   $150 B         France           LVMH     3   \n",
       "3                   Bill Gates   $124 B  United States      Microsoft     4   \n",
       "4              Mark Zuckerberg    $97 B  United States       Facebook     5   \n",
       "...                        ...      ...            ...            ...   ...   \n",
       "2750         Daniel Yong Zhang     $1 B          China     e-commerce  2674   \n",
       "2751             Zhang Yuqiang     $1 B          China     Fiberglass  2674   \n",
       "2752             Zhao Meiguang     $1 B          China    gold mining  2674   \n",
       "2753            Zhong Naixiong     $1 B          China   conglomerate  2674   \n",
       "2754           Zhou Wei family     $1 B          China       Software  2674   \n",
       "\n",
       "       Age          Industry  \n",
       "0     57.0        Technology  \n",
       "1     49.0        Automotive  \n",
       "2     72.0  Fashion & Retail  \n",
       "3     65.0        Technology  \n",
       "4     36.0        Technology  \n",
       "...    ...               ...  \n",
       "2750  49.0        Technology  \n",
       "2751  65.0     Manufacturing  \n",
       "2752  58.0   Metals & Mining  \n",
       "2753  58.0       Diversified  \n",
       "2754  54.0        Technology  \n",
       "\n",
       "[2755 rows x 7 columns]"
      ]
     },
     "execution_count": 6,
     "metadata": {},
     "output_type": "execute_result"
    }
   ],
   "source": [
    "df"
   ]
  },
  {
   "cell_type": "markdown",
   "id": "b65d31c1",
   "metadata": {},
   "source": [
    "### Getting the first 5 names and details of the billionaires from the Forbes list"
   ]
  },
  {
   "cell_type": "code",
   "execution_count": 7,
   "id": "de18713e",
   "metadata": {},
   "outputs": [
    {
     "data": {
      "text/html": [
       "<div>\n",
       "<style scoped>\n",
       "    .dataframe tbody tr th:only-of-type {\n",
       "        vertical-align: middle;\n",
       "    }\n",
       "\n",
       "    .dataframe tbody tr th {\n",
       "        vertical-align: top;\n",
       "    }\n",
       "\n",
       "    .dataframe thead th {\n",
       "        text-align: right;\n",
       "    }\n",
       "</style>\n",
       "<table border=\"1\" class=\"dataframe\">\n",
       "  <thead>\n",
       "    <tr style=\"text-align: right;\">\n",
       "      <th></th>\n",
       "      <th>Name</th>\n",
       "      <th>NetWorth</th>\n",
       "      <th>Country</th>\n",
       "      <th>Source</th>\n",
       "      <th>Rank</th>\n",
       "      <th>Age</th>\n",
       "      <th>Industry</th>\n",
       "    </tr>\n",
       "  </thead>\n",
       "  <tbody>\n",
       "    <tr>\n",
       "      <th>0</th>\n",
       "      <td>Jeff Bezos</td>\n",
       "      <td>$177 B</td>\n",
       "      <td>United States</td>\n",
       "      <td>Amazon</td>\n",
       "      <td>1</td>\n",
       "      <td>57.0</td>\n",
       "      <td>Technology</td>\n",
       "    </tr>\n",
       "    <tr>\n",
       "      <th>1</th>\n",
       "      <td>Elon Musk</td>\n",
       "      <td>$151 B</td>\n",
       "      <td>United States</td>\n",
       "      <td>Tesla, SpaceX</td>\n",
       "      <td>2</td>\n",
       "      <td>49.0</td>\n",
       "      <td>Automotive</td>\n",
       "    </tr>\n",
       "    <tr>\n",
       "      <th>2</th>\n",
       "      <td>Bernard Arnault &amp; family</td>\n",
       "      <td>$150 B</td>\n",
       "      <td>France</td>\n",
       "      <td>LVMH</td>\n",
       "      <td>3</td>\n",
       "      <td>72.0</td>\n",
       "      <td>Fashion &amp; Retail</td>\n",
       "    </tr>\n",
       "    <tr>\n",
       "      <th>3</th>\n",
       "      <td>Bill Gates</td>\n",
       "      <td>$124 B</td>\n",
       "      <td>United States</td>\n",
       "      <td>Microsoft</td>\n",
       "      <td>4</td>\n",
       "      <td>65.0</td>\n",
       "      <td>Technology</td>\n",
       "    </tr>\n",
       "    <tr>\n",
       "      <th>4</th>\n",
       "      <td>Mark Zuckerberg</td>\n",
       "      <td>$97 B</td>\n",
       "      <td>United States</td>\n",
       "      <td>Facebook</td>\n",
       "      <td>5</td>\n",
       "      <td>36.0</td>\n",
       "      <td>Technology</td>\n",
       "    </tr>\n",
       "  </tbody>\n",
       "</table>\n",
       "</div>"
      ],
      "text/plain": [
       "                       Name NetWorth        Country         Source  Rank  \\\n",
       "0                Jeff Bezos   $177 B  United States         Amazon     1   \n",
       "1                 Elon Musk   $151 B  United States  Tesla, SpaceX     2   \n",
       "2  Bernard Arnault & family   $150 B         France           LVMH     3   \n",
       "3                Bill Gates   $124 B  United States      Microsoft     4   \n",
       "4           Mark Zuckerberg    $97 B  United States       Facebook     5   \n",
       "\n",
       "    Age          Industry  \n",
       "0  57.0        Technology  \n",
       "1  49.0        Automotive  \n",
       "2  72.0  Fashion & Retail  \n",
       "3  65.0        Technology  \n",
       "4  36.0        Technology  "
      ]
     },
     "execution_count": 7,
     "metadata": {},
     "output_type": "execute_result"
    }
   ],
   "source": [
    "df.head()"
   ]
  },
  {
   "cell_type": "markdown",
   "id": "0d7ee2f1",
   "metadata": {},
   "source": [
    "### Getting the last 5 names and details of the billionaires from the Forbes list"
   ]
  },
  {
   "cell_type": "code",
   "execution_count": 8,
   "id": "a2b48ab5",
   "metadata": {},
   "outputs": [
    {
     "data": {
      "text/html": [
       "<div>\n",
       "<style scoped>\n",
       "    .dataframe tbody tr th:only-of-type {\n",
       "        vertical-align: middle;\n",
       "    }\n",
       "\n",
       "    .dataframe tbody tr th {\n",
       "        vertical-align: top;\n",
       "    }\n",
       "\n",
       "    .dataframe thead th {\n",
       "        text-align: right;\n",
       "    }\n",
       "</style>\n",
       "<table border=\"1\" class=\"dataframe\">\n",
       "  <thead>\n",
       "    <tr style=\"text-align: right;\">\n",
       "      <th></th>\n",
       "      <th>Name</th>\n",
       "      <th>NetWorth</th>\n",
       "      <th>Country</th>\n",
       "      <th>Source</th>\n",
       "      <th>Rank</th>\n",
       "      <th>Age</th>\n",
       "      <th>Industry</th>\n",
       "    </tr>\n",
       "  </thead>\n",
       "  <tbody>\n",
       "    <tr>\n",
       "      <th>2750</th>\n",
       "      <td>Daniel Yong Zhang</td>\n",
       "      <td>$1 B</td>\n",
       "      <td>China</td>\n",
       "      <td>e-commerce</td>\n",
       "      <td>2674</td>\n",
       "      <td>49.0</td>\n",
       "      <td>Technology</td>\n",
       "    </tr>\n",
       "    <tr>\n",
       "      <th>2751</th>\n",
       "      <td>Zhang Yuqiang</td>\n",
       "      <td>$1 B</td>\n",
       "      <td>China</td>\n",
       "      <td>Fiberglass</td>\n",
       "      <td>2674</td>\n",
       "      <td>65.0</td>\n",
       "      <td>Manufacturing</td>\n",
       "    </tr>\n",
       "    <tr>\n",
       "      <th>2752</th>\n",
       "      <td>Zhao Meiguang</td>\n",
       "      <td>$1 B</td>\n",
       "      <td>China</td>\n",
       "      <td>gold mining</td>\n",
       "      <td>2674</td>\n",
       "      <td>58.0</td>\n",
       "      <td>Metals &amp; Mining</td>\n",
       "    </tr>\n",
       "    <tr>\n",
       "      <th>2753</th>\n",
       "      <td>Zhong Naixiong</td>\n",
       "      <td>$1 B</td>\n",
       "      <td>China</td>\n",
       "      <td>conglomerate</td>\n",
       "      <td>2674</td>\n",
       "      <td>58.0</td>\n",
       "      <td>Diversified</td>\n",
       "    </tr>\n",
       "    <tr>\n",
       "      <th>2754</th>\n",
       "      <td>Zhou Wei family</td>\n",
       "      <td>$1 B</td>\n",
       "      <td>China</td>\n",
       "      <td>Software</td>\n",
       "      <td>2674</td>\n",
       "      <td>54.0</td>\n",
       "      <td>Technology</td>\n",
       "    </tr>\n",
       "  </tbody>\n",
       "</table>\n",
       "</div>"
      ],
      "text/plain": [
       "                   Name NetWorth Country        Source  Rank   Age  \\\n",
       "2750  Daniel Yong Zhang     $1 B   China    e-commerce  2674  49.0   \n",
       "2751      Zhang Yuqiang     $1 B   China    Fiberglass  2674  65.0   \n",
       "2752      Zhao Meiguang     $1 B   China   gold mining  2674  58.0   \n",
       "2753     Zhong Naixiong     $1 B   China  conglomerate  2674  58.0   \n",
       "2754    Zhou Wei family     $1 B   China      Software  2674  54.0   \n",
       "\n",
       "             Industry  \n",
       "2750       Technology  \n",
       "2751    Manufacturing  \n",
       "2752  Metals & Mining  \n",
       "2753      Diversified  \n",
       "2754       Technology  "
      ]
     },
     "execution_count": 8,
     "metadata": {},
     "output_type": "execute_result"
    }
   ],
   "source": [
    "df.tail()"
   ]
  },
  {
   "cell_type": "markdown",
   "id": "adbd2edd",
   "metadata": {},
   "source": [
    "### Checking the datatype of the Forbes list"
   ]
  },
  {
   "cell_type": "code",
   "execution_count": 9,
   "id": "2d18d958",
   "metadata": {},
   "outputs": [
    {
     "name": "stdout",
     "output_type": "stream",
     "text": [
      "<class 'pandas.core.frame.DataFrame'>\n",
      "RangeIndex: 2755 entries, 0 to 2754\n",
      "Data columns (total 7 columns):\n",
      " #   Column    Non-Null Count  Dtype  \n",
      "---  ------    --------------  -----  \n",
      " 0   Name      2755 non-null   object \n",
      " 1   NetWorth  2755 non-null   object \n",
      " 2   Country   2755 non-null   object \n",
      " 3   Source    2755 non-null   object \n",
      " 4   Rank      2755 non-null   int64  \n",
      " 5   Age       2676 non-null   float64\n",
      " 6   Industry  2755 non-null   object \n",
      "dtypes: float64(1), int64(1), object(5)\n",
      "memory usage: 150.8+ KB\n"
     ]
    }
   ],
   "source": [
    "df.info()"
   ]
  },
  {
   "cell_type": "markdown",
   "id": "f704c0ac",
   "metadata": {},
   "source": [
    "### Checking all the Statistical data"
   ]
  },
  {
   "cell_type": "code",
   "execution_count": 10,
   "id": "d729d4fd",
   "metadata": {},
   "outputs": [
    {
     "data": {
      "text/html": [
       "<div>\n",
       "<style scoped>\n",
       "    .dataframe tbody tr th:only-of-type {\n",
       "        vertical-align: middle;\n",
       "    }\n",
       "\n",
       "    .dataframe tbody tr th {\n",
       "        vertical-align: top;\n",
       "    }\n",
       "\n",
       "    .dataframe thead th {\n",
       "        text-align: right;\n",
       "    }\n",
       "</style>\n",
       "<table border=\"1\" class=\"dataframe\">\n",
       "  <thead>\n",
       "    <tr style=\"text-align: right;\">\n",
       "      <th></th>\n",
       "      <th>Rank</th>\n",
       "      <th>Age</th>\n",
       "    </tr>\n",
       "  </thead>\n",
       "  <tbody>\n",
       "    <tr>\n",
       "      <th>count</th>\n",
       "      <td>2755.000000</td>\n",
       "      <td>2676.000000</td>\n",
       "    </tr>\n",
       "    <tr>\n",
       "      <th>mean</th>\n",
       "      <td>1345.663521</td>\n",
       "      <td>63.113602</td>\n",
       "    </tr>\n",
       "    <tr>\n",
       "      <th>std</th>\n",
       "      <td>772.669811</td>\n",
       "      <td>13.445153</td>\n",
       "    </tr>\n",
       "    <tr>\n",
       "      <th>min</th>\n",
       "      <td>1.000000</td>\n",
       "      <td>18.000000</td>\n",
       "    </tr>\n",
       "    <tr>\n",
       "      <th>25%</th>\n",
       "      <td>680.000000</td>\n",
       "      <td>54.000000</td>\n",
       "    </tr>\n",
       "    <tr>\n",
       "      <th>50%</th>\n",
       "      <td>1362.000000</td>\n",
       "      <td>63.000000</td>\n",
       "    </tr>\n",
       "    <tr>\n",
       "      <th>75%</th>\n",
       "      <td>2035.000000</td>\n",
       "      <td>73.000000</td>\n",
       "    </tr>\n",
       "    <tr>\n",
       "      <th>max</th>\n",
       "      <td>2674.000000</td>\n",
       "      <td>99.000000</td>\n",
       "    </tr>\n",
       "  </tbody>\n",
       "</table>\n",
       "</div>"
      ],
      "text/plain": [
       "              Rank          Age\n",
       "count  2755.000000  2676.000000\n",
       "mean   1345.663521    63.113602\n",
       "std     772.669811    13.445153\n",
       "min       1.000000    18.000000\n",
       "25%     680.000000    54.000000\n",
       "50%    1362.000000    63.000000\n",
       "75%    2035.000000    73.000000\n",
       "max    2674.000000    99.000000"
      ]
     },
     "execution_count": 10,
     "metadata": {},
     "output_type": "execute_result"
    }
   ],
   "source": [
    "df.describe()"
   ]
  },
  {
   "cell_type": "markdown",
   "id": "c37f2b3e",
   "metadata": {},
   "source": [
    "### Here \"Networth\" Column has some special characters, so we will remove them "
   ]
  },
  {
   "cell_type": "code",
   "execution_count": 11,
   "id": "a7da5c3d",
   "metadata": {},
   "outputs": [],
   "source": [
    "df['NetWorth in Billion $']=[re.sub(r'[^0-9]',' ',s) for s in df['NetWorth']]\n",
    "df['NetWorth in Billion $']=[a.replace(\" \",\".\")[1:-2] for a in df['NetWorth in Billion $']]\n",
    "df['NetWorth in Billion $']=df['NetWorth in Billion $'].astype('float')"
   ]
  },
  {
   "cell_type": "code",
   "execution_count": 12,
   "id": "521cb890",
   "metadata": {},
   "outputs": [
    {
     "data": {
      "text/html": [
       "<div>\n",
       "<style scoped>\n",
       "    .dataframe tbody tr th:only-of-type {\n",
       "        vertical-align: middle;\n",
       "    }\n",
       "\n",
       "    .dataframe tbody tr th {\n",
       "        vertical-align: top;\n",
       "    }\n",
       "\n",
       "    .dataframe thead th {\n",
       "        text-align: right;\n",
       "    }\n",
       "</style>\n",
       "<table border=\"1\" class=\"dataframe\">\n",
       "  <thead>\n",
       "    <tr style=\"text-align: right;\">\n",
       "      <th></th>\n",
       "      <th>Name</th>\n",
       "      <th>NetWorth</th>\n",
       "      <th>Country</th>\n",
       "      <th>Source</th>\n",
       "      <th>Rank</th>\n",
       "      <th>Age</th>\n",
       "      <th>Industry</th>\n",
       "      <th>NetWorth in Billion $</th>\n",
       "    </tr>\n",
       "  </thead>\n",
       "  <tbody>\n",
       "    <tr>\n",
       "      <th>0</th>\n",
       "      <td>Jeff Bezos</td>\n",
       "      <td>$177 B</td>\n",
       "      <td>United States</td>\n",
       "      <td>Amazon</td>\n",
       "      <td>1</td>\n",
       "      <td>57.0</td>\n",
       "      <td>Technology</td>\n",
       "      <td>177.0</td>\n",
       "    </tr>\n",
       "    <tr>\n",
       "      <th>1</th>\n",
       "      <td>Elon Musk</td>\n",
       "      <td>$151 B</td>\n",
       "      <td>United States</td>\n",
       "      <td>Tesla, SpaceX</td>\n",
       "      <td>2</td>\n",
       "      <td>49.0</td>\n",
       "      <td>Automotive</td>\n",
       "      <td>151.0</td>\n",
       "    </tr>\n",
       "    <tr>\n",
       "      <th>2</th>\n",
       "      <td>Bernard Arnault &amp; family</td>\n",
       "      <td>$150 B</td>\n",
       "      <td>France</td>\n",
       "      <td>LVMH</td>\n",
       "      <td>3</td>\n",
       "      <td>72.0</td>\n",
       "      <td>Fashion &amp; Retail</td>\n",
       "      <td>150.0</td>\n",
       "    </tr>\n",
       "    <tr>\n",
       "      <th>3</th>\n",
       "      <td>Bill Gates</td>\n",
       "      <td>$124 B</td>\n",
       "      <td>United States</td>\n",
       "      <td>Microsoft</td>\n",
       "      <td>4</td>\n",
       "      <td>65.0</td>\n",
       "      <td>Technology</td>\n",
       "      <td>124.0</td>\n",
       "    </tr>\n",
       "    <tr>\n",
       "      <th>4</th>\n",
       "      <td>Mark Zuckerberg</td>\n",
       "      <td>$97 B</td>\n",
       "      <td>United States</td>\n",
       "      <td>Facebook</td>\n",
       "      <td>5</td>\n",
       "      <td>36.0</td>\n",
       "      <td>Technology</td>\n",
       "      <td>97.0</td>\n",
       "    </tr>\n",
       "    <tr>\n",
       "      <th>...</th>\n",
       "      <td>...</td>\n",
       "      <td>...</td>\n",
       "      <td>...</td>\n",
       "      <td>...</td>\n",
       "      <td>...</td>\n",
       "      <td>...</td>\n",
       "      <td>...</td>\n",
       "      <td>...</td>\n",
       "    </tr>\n",
       "    <tr>\n",
       "      <th>2750</th>\n",
       "      <td>Daniel Yong Zhang</td>\n",
       "      <td>$1 B</td>\n",
       "      <td>China</td>\n",
       "      <td>e-commerce</td>\n",
       "      <td>2674</td>\n",
       "      <td>49.0</td>\n",
       "      <td>Technology</td>\n",
       "      <td>1.0</td>\n",
       "    </tr>\n",
       "    <tr>\n",
       "      <th>2751</th>\n",
       "      <td>Zhang Yuqiang</td>\n",
       "      <td>$1 B</td>\n",
       "      <td>China</td>\n",
       "      <td>Fiberglass</td>\n",
       "      <td>2674</td>\n",
       "      <td>65.0</td>\n",
       "      <td>Manufacturing</td>\n",
       "      <td>1.0</td>\n",
       "    </tr>\n",
       "    <tr>\n",
       "      <th>2752</th>\n",
       "      <td>Zhao Meiguang</td>\n",
       "      <td>$1 B</td>\n",
       "      <td>China</td>\n",
       "      <td>gold mining</td>\n",
       "      <td>2674</td>\n",
       "      <td>58.0</td>\n",
       "      <td>Metals &amp; Mining</td>\n",
       "      <td>1.0</td>\n",
       "    </tr>\n",
       "    <tr>\n",
       "      <th>2753</th>\n",
       "      <td>Zhong Naixiong</td>\n",
       "      <td>$1 B</td>\n",
       "      <td>China</td>\n",
       "      <td>conglomerate</td>\n",
       "      <td>2674</td>\n",
       "      <td>58.0</td>\n",
       "      <td>Diversified</td>\n",
       "      <td>1.0</td>\n",
       "    </tr>\n",
       "    <tr>\n",
       "      <th>2754</th>\n",
       "      <td>Zhou Wei family</td>\n",
       "      <td>$1 B</td>\n",
       "      <td>China</td>\n",
       "      <td>Software</td>\n",
       "      <td>2674</td>\n",
       "      <td>54.0</td>\n",
       "      <td>Technology</td>\n",
       "      <td>1.0</td>\n",
       "    </tr>\n",
       "  </tbody>\n",
       "</table>\n",
       "<p>2755 rows × 8 columns</p>\n",
       "</div>"
      ],
      "text/plain": [
       "                          Name NetWorth        Country         Source  Rank  \\\n",
       "0                   Jeff Bezos   $177 B  United States         Amazon     1   \n",
       "1                    Elon Musk   $151 B  United States  Tesla, SpaceX     2   \n",
       "2     Bernard Arnault & family   $150 B         France           LVMH     3   \n",
       "3                   Bill Gates   $124 B  United States      Microsoft     4   \n",
       "4              Mark Zuckerberg    $97 B  United States       Facebook     5   \n",
       "...                        ...      ...            ...            ...   ...   \n",
       "2750         Daniel Yong Zhang     $1 B          China     e-commerce  2674   \n",
       "2751             Zhang Yuqiang     $1 B          China     Fiberglass  2674   \n",
       "2752             Zhao Meiguang     $1 B          China    gold mining  2674   \n",
       "2753            Zhong Naixiong     $1 B          China   conglomerate  2674   \n",
       "2754           Zhou Wei family     $1 B          China       Software  2674   \n",
       "\n",
       "       Age          Industry  NetWorth in Billion $  \n",
       "0     57.0        Technology                  177.0  \n",
       "1     49.0        Automotive                  151.0  \n",
       "2     72.0  Fashion & Retail                  150.0  \n",
       "3     65.0        Technology                  124.0  \n",
       "4     36.0        Technology                   97.0  \n",
       "...    ...               ...                    ...  \n",
       "2750  49.0        Technology                    1.0  \n",
       "2751  65.0     Manufacturing                    1.0  \n",
       "2752  58.0   Metals & Mining                    1.0  \n",
       "2753  58.0       Diversified                    1.0  \n",
       "2754  54.0        Technology                    1.0  \n",
       "\n",
       "[2755 rows x 8 columns]"
      ]
     },
     "execution_count": 12,
     "metadata": {},
     "output_type": "execute_result"
    }
   ],
   "source": [
    "df"
   ]
  },
  {
   "cell_type": "code",
   "execution_count": 13,
   "id": "e0cbb2e2",
   "metadata": {},
   "outputs": [
    {
     "data": {
      "text/html": [
       "<div>\n",
       "<style scoped>\n",
       "    .dataframe tbody tr th:only-of-type {\n",
       "        vertical-align: middle;\n",
       "    }\n",
       "\n",
       "    .dataframe tbody tr th {\n",
       "        vertical-align: top;\n",
       "    }\n",
       "\n",
       "    .dataframe thead th {\n",
       "        text-align: right;\n",
       "    }\n",
       "</style>\n",
       "<table border=\"1\" class=\"dataframe\">\n",
       "  <thead>\n",
       "    <tr style=\"text-align: right;\">\n",
       "      <th></th>\n",
       "      <th>Name</th>\n",
       "      <th>NetWorth</th>\n",
       "      <th>Country</th>\n",
       "      <th>Source</th>\n",
       "      <th>Rank</th>\n",
       "      <th>Age</th>\n",
       "      <th>Industry</th>\n",
       "      <th>NetWorth in Billion $</th>\n",
       "    </tr>\n",
       "  </thead>\n",
       "  <tbody>\n",
       "    <tr>\n",
       "      <th>0</th>\n",
       "      <td>Jeff Bezos</td>\n",
       "      <td>$177 B</td>\n",
       "      <td>United States</td>\n",
       "      <td>Amazon</td>\n",
       "      <td>1</td>\n",
       "      <td>57.0</td>\n",
       "      <td>Technology</td>\n",
       "      <td>177.0</td>\n",
       "    </tr>\n",
       "    <tr>\n",
       "      <th>1</th>\n",
       "      <td>Elon Musk</td>\n",
       "      <td>$151 B</td>\n",
       "      <td>United States</td>\n",
       "      <td>Tesla, SpaceX</td>\n",
       "      <td>2</td>\n",
       "      <td>49.0</td>\n",
       "      <td>Automotive</td>\n",
       "      <td>151.0</td>\n",
       "    </tr>\n",
       "    <tr>\n",
       "      <th>2</th>\n",
       "      <td>Bernard Arnault &amp; family</td>\n",
       "      <td>$150 B</td>\n",
       "      <td>France</td>\n",
       "      <td>LVMH</td>\n",
       "      <td>3</td>\n",
       "      <td>72.0</td>\n",
       "      <td>Fashion &amp; Retail</td>\n",
       "      <td>150.0</td>\n",
       "    </tr>\n",
       "    <tr>\n",
       "      <th>3</th>\n",
       "      <td>Bill Gates</td>\n",
       "      <td>$124 B</td>\n",
       "      <td>United States</td>\n",
       "      <td>Microsoft</td>\n",
       "      <td>4</td>\n",
       "      <td>65.0</td>\n",
       "      <td>Technology</td>\n",
       "      <td>124.0</td>\n",
       "    </tr>\n",
       "    <tr>\n",
       "      <th>4</th>\n",
       "      <td>Mark Zuckerberg</td>\n",
       "      <td>$97 B</td>\n",
       "      <td>United States</td>\n",
       "      <td>Facebook</td>\n",
       "      <td>5</td>\n",
       "      <td>36.0</td>\n",
       "      <td>Technology</td>\n",
       "      <td>97.0</td>\n",
       "    </tr>\n",
       "    <tr>\n",
       "      <th>5</th>\n",
       "      <td>Warren Buffett</td>\n",
       "      <td>$96 B</td>\n",
       "      <td>United States</td>\n",
       "      <td>Berkshire Hathaway</td>\n",
       "      <td>6</td>\n",
       "      <td>90.0</td>\n",
       "      <td>Finance &amp; Investments</td>\n",
       "      <td>96.0</td>\n",
       "    </tr>\n",
       "    <tr>\n",
       "      <th>6</th>\n",
       "      <td>Larry Ellison</td>\n",
       "      <td>$93 B</td>\n",
       "      <td>United States</td>\n",
       "      <td>software</td>\n",
       "      <td>7</td>\n",
       "      <td>76.0</td>\n",
       "      <td>Technology</td>\n",
       "      <td>93.0</td>\n",
       "    </tr>\n",
       "    <tr>\n",
       "      <th>7</th>\n",
       "      <td>Larry Page</td>\n",
       "      <td>$91.5 B</td>\n",
       "      <td>United States</td>\n",
       "      <td>Google</td>\n",
       "      <td>8</td>\n",
       "      <td>48.0</td>\n",
       "      <td>Technology</td>\n",
       "      <td>91.5</td>\n",
       "    </tr>\n",
       "    <tr>\n",
       "      <th>8</th>\n",
       "      <td>Sergey Brin</td>\n",
       "      <td>$89 B</td>\n",
       "      <td>United States</td>\n",
       "      <td>Google</td>\n",
       "      <td>9</td>\n",
       "      <td>47.0</td>\n",
       "      <td>Technology</td>\n",
       "      <td>89.0</td>\n",
       "    </tr>\n",
       "    <tr>\n",
       "      <th>9</th>\n",
       "      <td>Mukesh Ambani</td>\n",
       "      <td>$84.5 B</td>\n",
       "      <td>India</td>\n",
       "      <td>diversified</td>\n",
       "      <td>10</td>\n",
       "      <td>63.0</td>\n",
       "      <td>Diversified</td>\n",
       "      <td>84.5</td>\n",
       "    </tr>\n",
       "  </tbody>\n",
       "</table>\n",
       "</div>"
      ],
      "text/plain": [
       "                       Name NetWorth        Country              Source  Rank  \\\n",
       "0                Jeff Bezos   $177 B  United States              Amazon     1   \n",
       "1                 Elon Musk   $151 B  United States       Tesla, SpaceX     2   \n",
       "2  Bernard Arnault & family   $150 B         France                LVMH     3   \n",
       "3                Bill Gates   $124 B  United States           Microsoft     4   \n",
       "4           Mark Zuckerberg    $97 B  United States            Facebook     5   \n",
       "5            Warren Buffett    $96 B  United States  Berkshire Hathaway     6   \n",
       "6             Larry Ellison    $93 B  United States            software     7   \n",
       "7                Larry Page  $91.5 B  United States              Google     8   \n",
       "8               Sergey Brin    $89 B  United States              Google     9   \n",
       "9             Mukesh Ambani  $84.5 B          India         diversified    10   \n",
       "\n",
       "    Age               Industry  NetWorth in Billion $  \n",
       "0  57.0             Technology                  177.0  \n",
       "1  49.0             Automotive                  151.0  \n",
       "2  72.0       Fashion & Retail                  150.0  \n",
       "3  65.0             Technology                  124.0  \n",
       "4  36.0             Technology                   97.0  \n",
       "5  90.0  Finance & Investments                   96.0  \n",
       "6  76.0             Technology                   93.0  \n",
       "7  48.0             Technology                   91.5  \n",
       "8  47.0             Technology                   89.0  \n",
       "9  63.0            Diversified                   84.5  "
      ]
     },
     "execution_count": 13,
     "metadata": {},
     "output_type": "execute_result"
    }
   ],
   "source": [
    "df.head(10)"
   ]
  },
  {
   "cell_type": "markdown",
   "id": "35050e37",
   "metadata": {},
   "source": [
    "### Billionaires in India who are on the Forbes list"
   ]
  },
  {
   "cell_type": "code",
   "execution_count": 14,
   "id": "5e22c57d",
   "metadata": {},
   "outputs": [
    {
     "data": {
      "text/html": [
       "<div>\n",
       "<style scoped>\n",
       "    .dataframe tbody tr th:only-of-type {\n",
       "        vertical-align: middle;\n",
       "    }\n",
       "\n",
       "    .dataframe tbody tr th {\n",
       "        vertical-align: top;\n",
       "    }\n",
       "\n",
       "    .dataframe thead th {\n",
       "        text-align: right;\n",
       "    }\n",
       "</style>\n",
       "<table border=\"1\" class=\"dataframe\">\n",
       "  <thead>\n",
       "    <tr style=\"text-align: right;\">\n",
       "      <th></th>\n",
       "      <th>Name</th>\n",
       "      <th>NetWorth</th>\n",
       "      <th>Country</th>\n",
       "      <th>Source</th>\n",
       "      <th>Rank</th>\n",
       "      <th>Age</th>\n",
       "      <th>Industry</th>\n",
       "      <th>NetWorth in Billion $</th>\n",
       "    </tr>\n",
       "  </thead>\n",
       "  <tbody>\n",
       "    <tr>\n",
       "      <th>9</th>\n",
       "      <td>Mukesh Ambani</td>\n",
       "      <td>$84.5 B</td>\n",
       "      <td>India</td>\n",
       "      <td>diversified</td>\n",
       "      <td>10</td>\n",
       "      <td>63.0</td>\n",
       "      <td>Diversified</td>\n",
       "      <td>84.5</td>\n",
       "    </tr>\n",
       "    <tr>\n",
       "      <th>23</th>\n",
       "      <td>Gautam Adani &amp; family</td>\n",
       "      <td>$50.5 B</td>\n",
       "      <td>India</td>\n",
       "      <td>infrastructure, commodities</td>\n",
       "      <td>24</td>\n",
       "      <td>58.0</td>\n",
       "      <td>Diversified</td>\n",
       "      <td>50.5</td>\n",
       "    </tr>\n",
       "    <tr>\n",
       "      <th>71</th>\n",
       "      <td>Shiv Nadar</td>\n",
       "      <td>$23.5 B</td>\n",
       "      <td>India</td>\n",
       "      <td>software services</td>\n",
       "      <td>71</td>\n",
       "      <td>75.0</td>\n",
       "      <td>Technology</td>\n",
       "      <td>23.5</td>\n",
       "    </tr>\n",
       "    <tr>\n",
       "      <th>116</th>\n",
       "      <td>Radhakishan Damani</td>\n",
       "      <td>$16.5 B</td>\n",
       "      <td>India</td>\n",
       "      <td>retail, investments</td>\n",
       "      <td>117</td>\n",
       "      <td>66.0</td>\n",
       "      <td>Fashion &amp; Retail</td>\n",
       "      <td>16.5</td>\n",
       "    </tr>\n",
       "    <tr>\n",
       "      <th>122</th>\n",
       "      <td>Uday Kotak</td>\n",
       "      <td>$15.9 B</td>\n",
       "      <td>India</td>\n",
       "      <td>banking</td>\n",
       "      <td>121</td>\n",
       "      <td>62.0</td>\n",
       "      <td>Finance &amp; Investments</td>\n",
       "      <td>15.9</td>\n",
       "    </tr>\n",
       "    <tr>\n",
       "      <th>...</th>\n",
       "      <td>...</td>\n",
       "      <td>...</td>\n",
       "      <td>...</td>\n",
       "      <td>...</td>\n",
       "      <td>...</td>\n",
       "      <td>...</td>\n",
       "      <td>...</td>\n",
       "      <td>...</td>\n",
       "    </tr>\n",
       "    <tr>\n",
       "      <th>2683</th>\n",
       "      <td>Ramesh Kumar Dua</td>\n",
       "      <td>$1 B</td>\n",
       "      <td>India</td>\n",
       "      <td>footwear</td>\n",
       "      <td>2674</td>\n",
       "      <td>67.0</td>\n",
       "      <td>Fashion &amp; Retail</td>\n",
       "      <td>1.0</td>\n",
       "    </tr>\n",
       "    <tr>\n",
       "      <th>2698</th>\n",
       "      <td>Ashok Kajaria</td>\n",
       "      <td>$1 B</td>\n",
       "      <td>India</td>\n",
       "      <td>tiles</td>\n",
       "      <td>2674</td>\n",
       "      <td>73.0</td>\n",
       "      <td>Manufacturing</td>\n",
       "      <td>1.0</td>\n",
       "    </tr>\n",
       "    <tr>\n",
       "      <th>2699</th>\n",
       "      <td>T.S. Kalyanaraman</td>\n",
       "      <td>$1 B</td>\n",
       "      <td>India</td>\n",
       "      <td>jewelry</td>\n",
       "      <td>2674</td>\n",
       "      <td>73.0</td>\n",
       "      <td>Fashion &amp; Retail</td>\n",
       "      <td>1.0</td>\n",
       "    </tr>\n",
       "    <tr>\n",
       "      <th>2712</th>\n",
       "      <td>Rafique Malik</td>\n",
       "      <td>$1 B</td>\n",
       "      <td>India</td>\n",
       "      <td>footwear</td>\n",
       "      <td>2674</td>\n",
       "      <td>70.0</td>\n",
       "      <td>Fashion &amp; Retail</td>\n",
       "      <td>1.0</td>\n",
       "    </tr>\n",
       "    <tr>\n",
       "      <th>2715</th>\n",
       "      <td>Mofatraj Munot</td>\n",
       "      <td>$1 B</td>\n",
       "      <td>India</td>\n",
       "      <td>real estate</td>\n",
       "      <td>2674</td>\n",
       "      <td>76.0</td>\n",
       "      <td>Real Estate</td>\n",
       "      <td>1.0</td>\n",
       "    </tr>\n",
       "  </tbody>\n",
       "</table>\n",
       "<p>140 rows × 8 columns</p>\n",
       "</div>"
      ],
      "text/plain": [
       "                       Name NetWorth Country                       Source  \\\n",
       "9             Mukesh Ambani  $84.5 B   India                  diversified   \n",
       "23    Gautam Adani & family  $50.5 B   India  infrastructure, commodities   \n",
       "71               Shiv Nadar  $23.5 B   India            software services   \n",
       "116      Radhakishan Damani  $16.5 B   India          retail, investments   \n",
       "122              Uday Kotak  $15.9 B   India                      banking   \n",
       "...                     ...      ...     ...                          ...   \n",
       "2683       Ramesh Kumar Dua     $1 B   India                     footwear   \n",
       "2698          Ashok Kajaria     $1 B   India                        tiles   \n",
       "2699      T.S. Kalyanaraman     $1 B   India                      jewelry   \n",
       "2712          Rafique Malik     $1 B   India                     footwear   \n",
       "2715         Mofatraj Munot     $1 B   India                  real estate   \n",
       "\n",
       "      Rank   Age               Industry  NetWorth in Billion $  \n",
       "9       10  63.0            Diversified                   84.5  \n",
       "23      24  58.0            Diversified                   50.5  \n",
       "71      71  75.0             Technology                   23.5  \n",
       "116    117  66.0       Fashion & Retail                   16.5  \n",
       "122    121  62.0  Finance & Investments                   15.9  \n",
       "...    ...   ...                    ...                    ...  \n",
       "2683  2674  67.0       Fashion & Retail                    1.0  \n",
       "2698  2674  73.0          Manufacturing                    1.0  \n",
       "2699  2674  73.0       Fashion & Retail                    1.0  \n",
       "2712  2674  70.0       Fashion & Retail                    1.0  \n",
       "2715  2674  76.0            Real Estate                    1.0  \n",
       "\n",
       "[140 rows x 8 columns]"
      ]
     },
     "execution_count": 14,
     "metadata": {},
     "output_type": "execute_result"
    }
   ],
   "source": [
    "df[df['Country']=='India']"
   ]
  },
  {
   "cell_type": "markdown",
   "id": "29b5dc37",
   "metadata": {},
   "source": [
    "**There are total 140 people from India who are on there on the Forbes list** "
   ]
  },
  {
   "cell_type": "markdown",
   "id": "03fef1ba",
   "metadata": {},
   "source": [
    "### Total Networth by Countries"
   ]
  },
  {
   "cell_type": "code",
   "execution_count": 15,
   "id": "9bd7c146",
   "metadata": {},
   "outputs": [
    {
     "data": {
      "text/plain": [
       "596.4"
      ]
     },
     "execution_count": 15,
     "metadata": {},
     "output_type": "execute_result"
    }
   ],
   "source": [
    "df1=df.groupby('Country')['NetWorth in Billion $'].sum()\n",
    "df1['India']"
   ]
  },
  {
   "cell_type": "code",
   "execution_count": 16,
   "id": "eb9b4860",
   "metadata": {},
   "outputs": [
    {
     "data": {
      "text/plain": [
       "2531.9"
      ]
     },
     "execution_count": 16,
     "metadata": {},
     "output_type": "execute_result"
    }
   ],
   "source": [
    "df1['China']"
   ]
  },
  {
   "cell_type": "code",
   "execution_count": 17,
   "id": "f39a4e2b",
   "metadata": {},
   "outputs": [
    {
     "data": {
      "text/plain": [
       "625.5"
      ]
     },
     "execution_count": 17,
     "metadata": {},
     "output_type": "execute_result"
    }
   ],
   "source": [
    "df1['Germany']"
   ]
  },
  {
   "cell_type": "code",
   "execution_count": 18,
   "id": "d40687c4",
   "metadata": {},
   "outputs": [
    {
     "data": {
      "text/plain": [
       "448.2"
      ]
     },
     "execution_count": 18,
     "metadata": {},
     "output_type": "execute_result"
    }
   ],
   "source": [
    "df1['Hong Kong']"
   ]
  },
  {
   "cell_type": "code",
   "execution_count": 19,
   "id": "340c6deb",
   "metadata": {},
   "outputs": [
    {
     "data": {
      "text/plain": [
       "213.9"
      ]
     },
     "execution_count": 19,
     "metadata": {},
     "output_type": "execute_result"
    }
   ],
   "source": [
    "df1['United Kingdom']"
   ]
  },
  {
   "cell_type": "code",
   "execution_count": 20,
   "id": "b9267a6e",
   "metadata": {},
   "outputs": [
    {
     "data": {
      "text/plain": [
       "Country\n",
       "Algeria              4.8\n",
       "Argentina           15.3\n",
       "Australia          181.5\n",
       "Austria             62.7\n",
       "Belgium             12.6\n",
       "                   ...  \n",
       "United Kingdom     213.9\n",
       "United States     4398.4\n",
       "Venezuela            3.2\n",
       "Vietnam             16.7\n",
       "Zimbabwe             1.5\n",
       "Name: NetWorth in Billion $, Length: 70, dtype: float64"
      ]
     },
     "execution_count": 20,
     "metadata": {},
     "output_type": "execute_result"
    }
   ],
   "source": [
    "df1"
   ]
  },
  {
   "cell_type": "markdown",
   "id": "98cde6da",
   "metadata": {},
   "source": [
    "**We can see the total Networth of Germany is more even though the total number of Billionaires are less than India**"
   ]
  },
  {
   "cell_type": "markdown",
   "id": "08728b17",
   "metadata": {},
   "source": [
    "## Data Visualization"
   ]
  },
  {
   "cell_type": "markdown",
   "id": "02a3825a",
   "metadata": {},
   "source": [
    "### Graph of Industries with most number of Billionaires"
   ]
  },
  {
   "cell_type": "code",
   "execution_count": 23,
   "id": "9f96a746",
   "metadata": {},
   "outputs": [
    {
     "data": {
      "image/png": "[encoded data removed]",
      "text/plain": [
       "<Figure size 540x540 with 1 Axes>"
      ]
     },
     "metadata": {},
     "output_type": "display_data"
    }
   ],
   "source": [
    "industry=df.groupby('Industry')['Name'].count().sort_values(ascending=True)\n",
    "plt.figure(figsize=(6,6),dpi=90)\n",
    "sns.set_style('whitegrid')\n",
    "chart=sns.countplot(data=df,y='Industry',order=industry.index)\n",
    "for index,value in enumerate(industry.values.tolist()):\n",
    "    plt.text(value, index, str(value))\n",
    "plt.title(\"Industry with more number of billionaires\")\n",
    "plt.show()"
   ]
  },
  {
   "cell_type": "markdown",
   "id": "f6e40eaf",
   "metadata": {},
   "source": [
    "### Plot for Country Wise Billionaires"
   ]
  },
  {
   "cell_type": "code",
   "execution_count": 25,
   "id": "668edbb4",
   "metadata": {},
   "outputs": [
    {
     "data": {
      "image/png": "[encoded data removed]",
      "text/plain": [
       "<Figure size 1400x700 with 1 Axes>"
      ]
     },
     "metadata": {},
     "output_type": "display_data"
    }
   ],
   "source": [
    "country=df.groupby('Country').Country.count().sort_values(ascending=False)\n",
    "plt.figure(figsize=(20,10), dpi=70)\n",
    "sns.set_style('whitegrid')\n",
    "chart=sns.countplot(data=df, x='Country', order=country.index)\n",
    "for index, value in enumerate(country.values.tolist()):\n",
    "    plt.text(index, value, str(value), horizontalalignment='center', rotation=90)\n",
    "plt.title(\"Country wise Billionaires\")\n",
    "plt.ylabel(\"Count of Billionaires\")\n",
    "plt.xticks(rotation=90)\n",
    "plt.show()"
   ]
  },
  {
   "cell_type": "markdown",
   "id": "43cf6bd6",
   "metadata": {},
   "source": [
    "### Plot for Total Networth and Industry"
   ]
  },
  {
   "cell_type": "code",
   "execution_count": 27,
   "id": "e7cdccbf",
   "metadata": {},
   "outputs": [
    {
     "data": {
      "image/png": "[encoded data removed]",
      "text/plain": [
       "<Figure size 720x432 with 1 Axes>"
      ]
     },
     "metadata": {},
     "output_type": "display_data"
    }
   ],
   "source": [
    "plt.figure(figsize=(10,6))\n",
    "sns.barplot(data=df, x='NetWorth in Billion $', y='Industry', hue=None);"
   ]
  },
  {
   "cell_type": "code",
   "execution_count": 28,
   "id": "720e0405",
   "metadata": {},
   "outputs": [
    {
     "data": {
      "image/png": "[encoded data removed]",
      "text/plain": [
       "<Figure size 540x540 with 12 Axes>"
      ]
     },
     "metadata": {},
     "output_type": "display_data"
    }
   ],
   "source": [
    "sns.pairplot(df, kind='scatter')\n",
    "plt.show()"
   ]
  },
  {
   "cell_type": "code",
   "execution_count": null,
   "id": "ecdffac4",
   "metadata": {},
   "outputs": [],
   "source": []
  },
  {
   "cell_type": "code",
   "execution_count": null,
   "id": "ef543694",
   "metadata": {},
   "outputs": [],
   "source": []
  },
  {
   "cell_type": "code",
   "execution_count": null,
   "id": "75d48844",
   "metadata": {},
   "outputs": [],
   "source": []
  },
  {
   "cell_type": "code",
   "execution_count": null,
   "id": "035d1da6",
   "metadata": {},
   "outputs": [],
   "source": []
  },
  {
   "cell_type": "code",
   "execution_count": null,
   "id": "d68f0190",
   "metadata": {},
   "outputs": [],
   "source": []
  },
  {
   "cell_type": "code",
   "execution_count": null,
   "id": "ec5f010a",
   "metadata": {},
   "outputs": [],
   "source": []
  },
  {
   "cell_type": "code",
   "execution_count": null,
   "id": "216bf341",
   "metadata": {},
   "outputs": [],
   "source": []
  },
  {
   "cell_type": "code",
   "execution_count": null,
   "id": "d91d328c",
   "metadata": {},
   "outputs": [],
   "source": []
  },
  {
   "cell_type": "code",
   "execution_count": null,
   "id": "e342be72",
   "metadata": {},
   "outputs": [],
   "source": []
  },
  {
   "cell_type": "code",
   "execution_count": null,
   "id": "26c3952e",
   "metadata": {},
   "outputs": [],
   "source": []
  },
  {
   "cell_type": "code",
   "execution_count": null,
   "id": "1eb54d60",
   "metadata": {},
   "outputs": [],
   "source": []
  },
  {
   "cell_type": "code",
   "execution_count": null,
   "id": "68f9913a",
   "metadata": {},
   "outputs": [],
   "source": []
  },
  {
   "cell_type": "code",
   "execution_count": null,
   "id": "1f4cfecf",
   "metadata": {},
   "outputs": [],
   "source": []
  },
  {
   "cell_type": "code",
   "execution_count": null,
   "id": "5725b24d",
   "metadata": {},
   "outputs": [],
   "source": []
  },
  {
   "cell_type": "code",
   "execution_count": null,
   "id": "440666f3",
   "metadata": {},
   "outputs": [],
   "source": []
  },
  {
   "cell_type": "code",
   "execution_count": null,
   "id": "b0014b21",
   "metadata": {},
   "outputs": [],
   "source": []
  },
  {
   "cell_type": "code",
   "execution_count": null,
   "id": "1f4b3a3e",
   "metadata": {},
   "outputs": [],
   "source": []
  },
  {
   "cell_type": "code",
   "execution_count": null,
   "id": "4a46244e",
   "metadata": {},
   "outputs": [],
   "source": []
  },
  {
   "cell_type": "code",
   "execution_count": null,
   "id": "84ba1da3",
   "metadata": {},
   "outputs": [],
   "source": []
  },
  {
   "cell_type": "code",
   "execution_count": null,
   "id": "fb22b9a9",
   "metadata": {},
   "outputs": [],
   "source": []
  },
  {
   "cell_type": "code",
   "execution_count": null,
   "id": "5e88e553",
   "metadata": {},
   "outputs": [],
   "source": []
  },
  {
   "cell_type": "code",
   "execution_count": null,
   "id": "a4e6b2df",
   "metadata": {},
   "outputs": [],
   "source": []
  },
  {
   "cell_type": "code",
   "execution_count": null,
   "id": "5570577f",
   "metadata": {},
   "outputs": [],
   "source": []
  },
  {
   "cell_type": "code",
   "execution_count": null,
   "id": "5c053aaf",
   "metadata": {},
   "outputs": [],
   "source": []
  },
  {
   "cell_type": "code",
   "execution_count": null,
   "id": "08ead71f",
   "metadata": {},
   "outputs": [],
   "source": []
  },
  {
   "cell_type": "code",
   "execution_count": null,
   "id": "91b45fc9",
   "metadata": {},
   "outputs": [],
   "source": []
  },
  {
   "cell_type": "code",
   "execution_count": null,
   "id": "aa82bafd",
   "metadata": {},
   "outputs": [],
   "source": []
  },
  {
   "cell_type": "code",
   "execution_count": null,
   "id": "977f3563",
   "metadata": {},
   "outputs": [],
   "source": []
  },
  {
   "cell_type": "code",
   "execution_count": null,
   "id": "3f0d3822",
   "metadata": {},
   "outputs": [],
   "source": []
  },
  {
   "cell_type": "code",
   "execution_count": null,
   "id": "3144c0ec",
   "metadata": {},
   "outputs": [],
   "source": []
  },
  {
   "cell_type": "code",
   "execution_count": null,
   "id": "a4ad2655",
   "metadata": {},
   "outputs": [],
   "source": []
  },
  {
   "cell_type": "code",
   "execution_count": null,
   "id": "180bcb16",
   "metadata": {},
   "outputs": [],
   "source": []
  },
  {
   "cell_type": "code",
   "execution_count": null,
   "id": "a67ebd71",
   "metadata": {},
   "outputs": [],
   "source": []
  },
  {
   "cell_type": "code",
   "execution_count": null,
   "id": "4f4eceaf",
   "metadata": {},
   "outputs": [],
   "source": []
  },
  {
   "cell_type": "code",
   "execution_count": null,
   "id": "919002fb",
   "metadata": {},
   "outputs": [],
   "source": []
  },
  {
   "cell_type": "code",
   "execution_count": null,
   "id": "9c3d032c",
   "metadata": {},
   "outputs": [],
   "source": []
  },
  {
   "cell_type": "code",
   "execution_count": null,
   "id": "6ebfe4ec",
   "metadata": {},
   "outputs": [],
   "source": []
  },
  {
   "cell_type": "code",
   "execution_count": null,
   "id": "61608ea3",
   "metadata": {},
   "outputs": [],
   "source": []
  },
  {
   "cell_type": "code",
   "execution_count": null,
   "id": "9f6a201a",
   "metadata": {},
   "outputs": [],
   "source": []
  },
  {
   "cell_type": "code",
   "execution_count": null,
   "id": "fb7e4ba1",
   "metadata": {},
   "outputs": [],
   "source": []
  },
  {
   "cell_type": "code",
   "execution_count": null,
   "id": "d992dcc0",
   "metadata": {},
   "outputs": [],
   "source": []
  },
  {
   "cell_type": "code",
   "execution_count": null,
   "id": "2eef2c15",
   "metadata": {},
   "outputs": [],
   "source": []
  },
  {
   "cell_type": "code",
   "execution_count": null,
   "id": "c49df656",
   "metadata": {},
   "outputs": [],
   "source": []
  },
  {
   "cell_type": "code",
   "execution_count": null,
   "id": "e6e8ed06",
   "metadata": {},
   "outputs": [],
   "source": []
  },
  {
   "cell_type": "code",
   "execution_count": null,
   "id": "fe9b68d2",
   "metadata": {},
   "outputs": [],
   "source": []
  },
  {
   "cell_type": "code",
   "execution_count": null,
   "id": "b446abfe",
   "metadata": {},
   "outputs": [],
   "source": []
  },
  {
   "cell_type": "code",
   "execution_count": null,
   "id": "5c2214f8",
   "metadata": {},
   "outputs": [],
   "source": []
  },
  {
   "cell_type": "code",
   "execution_count": null,
   "id": "615712b7",
   "metadata": {},
   "outputs": [],
   "source": []
  },
  {
   "cell_type": "code",
   "execution_count": null,
   "id": "d743c2c0",
   "metadata": {},
   "outputs": [],
   "source": []
  },
  {
   "cell_type": "code",
   "execution_count": null,
   "id": "8c5ed873",
   "metadata": {},
   "outputs": [],
   "source": []
  },
  {
   "cell_type": "code",
   "execution_count": null,
   "id": "ac72b6f7",
   "metadata": {},
   "outputs": [],
   "source": []
  },
  {
   "cell_type": "code",
   "execution_count": null,
   "id": "edb96928",
   "metadata": {},
   "outputs": [],
   "source": []
  },
  {
   "cell_type": "code",
   "execution_count": null,
   "id": "b7e81d1d",
   "metadata": {},
   "outputs": [],
   "source": []
  },
  {
   "cell_type": "code",
   "execution_count": null,
   "id": "515a0f59",
   "metadata": {},
   "outputs": [],
   "source": []
  },
  {
   "cell_type": "code",
   "execution_count": null,
   "id": "48197cf1",
   "metadata": {},
   "outputs": [],
   "source": []
  },
  {
   "cell_type": "code",
   "execution_count": null,
   "id": "b5695e9d",
   "metadata": {},
   "outputs": [],
   "source": []
  },
  {
   "cell_type": "code",
   "execution_count": null,
   "id": "9cfeadea",
   "metadata": {},
   "outputs": [],
   "source": []
  },
  {
   "cell_type": "code",
   "execution_count": null,
   "id": "67c3a24b",
   "metadata": {},
   "outputs": [],
   "source": []
  },
  {
   "cell_type": "code",
   "execution_count": null,
   "id": "7a98e8a2",
   "metadata": {},
   "outputs": [],
   "source": []
  },
  {
   "cell_type": "code",
   "execution_count": null,
   "id": "4e4c7d11",
   "metadata": {},
   "outputs": [],
   "source": []
  },
  {
   "cell_type": "code",
   "execution_count": null,
   "id": "e566aca9",
   "metadata": {},
   "outputs": [],
   "source": []
  },
  {
   "cell_type": "code",
   "execution_count": null,
   "id": "d728d5a5",
   "metadata": {},
   "outputs": [],
   "source": []
  },
  {
   "cell_type": "code",
   "execution_count": null,
   "id": "323b65cb",
   "metadata": {},
   "outputs": [],
   "source": []
  },
  {
   "cell_type": "code",
   "execution_count": null,
   "id": "890c78d0",
   "metadata": {},
   "outputs": [],
   "source": []
  },
  {
   "cell_type": "code",
   "execution_count": null,
   "id": "676faede",
   "metadata": {},
   "outputs": [],
   "source": []
  },
  {
   "cell_type": "code",
   "execution_count": null,
   "id": "e537b056",
   "metadata": {},
   "outputs": [],
   "source": []
  }
 ],
 "metadata": {
  "kernelspec": {
   "display_name": "Python 3",
   "language": "python",
   "name": "python3"
  },
  "language_info": {
   "codemirror_mode": {
    "name": "ipython",
    "version": 3
   },
   "file_extension": ".py",
   "mimetype": "text/x-python",
   "name": "python",
   "nbconvert_exporter": "python",
   "pygments_lexer": "ipython3",
   "version": "3.8.8"
  }
 },
 "nbformat": 4,
 "nbformat_minor": 5
}
